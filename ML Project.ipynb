{
 "cells": [
  {
   "cell_type": "code",
   "execution_count": null,
   "metadata": {
    "_cell_guid": "b1076dfc-b9ad-4769-8c92-a6c4dae69d19",
    "_uuid": "8f2839f25d086af736a60e9eeb907d3b93b6e0e5"
   },
   "outputs": [],
   "source": [
    "# This Python 3 environment comes with many helpful analytics libraries installed\n",
    "# It is defined by the kaggle/python docker image: https://github.com/kaggle/docker-python\n",
    "# For example, here's several helpful packages to load in \n",
    "\n",
    "import numpy as np # linear algebra\n",
    "import pandas as pd # data processing, CSV file I/O (e.g. pd.read_csv)\n",
    "import pandas_profiling\n",
    "import seaborn as sns\n",
    "import matplotlib.pyplot as plt\n",
    "\n",
    "# Input data files are available in the \"../input/\" directory.\n",
    "# For example, running this (by clicking run or pressing Shift+Enter) will list all files under the input directory\n",
    "\n",
    "import os\n",
    "for dirname, _, filenames in os.walk('/kaggle/input'):\n",
    "    for filename in filenames:\n",
    "        print(os.path.join(dirname, filename))\n",
    "\n",
    "# Any results you write to the current directory are saved as output."
   ]
  },
  {
   "cell_type": "code",
   "execution_count": null,
   "metadata": {
    "_cell_guid": "79c7e3d0-c299-4dcb-8224-4455121ee9b0",
    "_uuid": "d629ff2d2480ee46fbb7e2d37f6b5fab8052498a"
   },
   "outputs": [],
   "source": [
    "base_path = '/kaggle/input/house-prices-advanced-regression-techniques/'\n",
    "train = pd.read_csv(os.path.join(base_path, 'train.csv'))\n",
    "test = pd.read_csv(os.path.join(base_path, 'test.csv'))\n",
    "train = train.drop(['Id'], axis=1)\n",
    "test = test.drop(['Id'], axis=1)"
   ]
  },
  {
   "cell_type": "code",
   "execution_count": null,
   "metadata": {},
   "outputs": [],
   "source": [
    "# Concat the train data and test data\n",
    "target = train['SalePrice']\n",
    "train_index = len(train) - 1\n",
    "all_data = pd.concat([train.drop(['SalePrice'], axis=1),test]).reset_index(drop=True)\n",
    "all_data.head()"
   ]
  },
  {
   "cell_type": "code",
   "execution_count": null,
   "metadata": {},
   "outputs": [],
   "source": [
    "# Get the categorical columns and numerical columns\n",
    "cat_columns = all_data.select_dtypes(include='object').columns\n",
    "num_columns = all_data.select_dtypes(exclude='object').columns"
   ]
  },
  {
   "cell_type": "markdown",
   "metadata": {},
   "source": [
    "MSSubClass seems like a categorical feature, it should not be int format"
   ]
  },
  {
   "cell_type": "code",
   "execution_count": null,
   "metadata": {},
   "outputs": [],
   "source": [
    "all_data['MSSubClass'] = all_data['MSSubClass'].astype('str')"
   ]
  },
  {
   "cell_type": "code",
   "execution_count": null,
   "metadata": {},
   "outputs": [],
   "source": [
    "SalePrice = train['SalePrice']\n",
    "log_SalePrice = np.log(SalePrice) # take log to build a 'normal distribution'\n",
    "SalePrice.hist()\n",
    "plt.show()\n",
    "log_SalePrice.hist()\n",
    "plt.show()"
   ]
  },
  {
   "cell_type": "markdown",
   "metadata": {},
   "source": [
    "### Numerical features"
   ]
  },
  {
   "cell_type": "markdown",
   "metadata": {},
   "source": [
    "#### Missing values"
   ]
  },
  {
   "cell_type": "code",
   "execution_count": null,
   "metadata": {},
   "outputs": [],
   "source": [
    "missing_value = all_data[num_columns].isna().sum()\n",
    "missing_value[missing_value > 0]"
   ]
  },
  {
   "cell_type": "code",
   "execution_count": null,
   "metadata": {},
   "outputs": [],
   "source": [
    "# # LotFrontage: Linear feet of street connected to property\n",
    "# print(train.groupby(['Neighborhood'])['LotFrontage'].mean())\n",
    "# # plot the mean value\n",
    "# train['LotFrontage'].hist()\n",
    "# plt.axvline(train['LotFrontage'].mean(), color='r') \n",
    "\n",
    "# Fill na with mean value\n",
    "all_data['LotFrontage'] = all_data.groupby(['Neighborhood'])['LotFrontage'].apply(lambda x: x.fillna(x.mean()))\n",
    "\n",
    "\n",
    "# # MasVnrArea: Masonry veneer area in square feet\n",
    "# train['MasVnrArea'].hist()\n",
    "all_data['MasVnrArea'] = all_data['MasVnrArea'].fillna(all_data['MasVnrArea'].mode()[0])\n",
    "\n",
    "# # GarageYrBlt: Year garage was built\n",
    "all_data['GarageYrBlt'] = all_data['GarageYrBlt'].fillna(all_data['GarageYrBlt'].median())\n",
    "\n",
    "# # Bsmt & Garage\n",
    "for c in ['BsmtFinSF1', 'BsmtFinSF2', 'BsmtUnfSF', 'TotalBsmtSF', 'BsmtFullBath', 'BsmtHalfBath',\\\n",
    "         'GarageCars', 'GarageArea']:\n",
    "    all_data[c] = all_data[c].fillna(0)"
   ]
  },
  {
   "cell_type": "markdown",
   "metadata": {},
   "source": [
    "#### Correlation of numerical features with SalePrice"
   ]
  },
  {
   "cell_type": "code",
   "execution_count": null,
   "metadata": {},
   "outputs": [],
   "source": [
    "# Correlation of SalePrice and other numerical features\n",
    "corr_ = train.corr()\n",
    "np.abs(corr_['SalePrice']).sort_values(ascending=False).plot.bar()"
   ]
  },
  {
   "cell_type": "code",
   "execution_count": null,
   "metadata": {},
   "outputs": [],
   "source": [
    "# OverallQual: Rates the overall material and finish of the house\n",
    "sns.catplot(x='OverallQual', y='SalePrice', kind='box', data=train)"
   ]
  },
  {
   "cell_type": "code",
   "execution_count": null,
   "metadata": {},
   "outputs": [],
   "source": [
    "# GrLivArea: Above grade (ground) living area square feet\n",
    "sns.jointplot(x='GrLivArea', y='SalePrice', data=train)"
   ]
  },
  {
   "cell_type": "code",
   "execution_count": null,
   "metadata": {},
   "outputs": [],
   "source": [
    "# all_data[['YearBuilt', 'YearRemodAdd', 'YrSold']].head()\n",
    "# create two features\n",
    "all_data['diff_build_remodel'] = all_data['YearRemodAdd'] - all_data['YearBuilt']\n",
    "all_data['fresh'] = all_data['YrSold'] - all_data['YearRemodAdd']"
   ]
  },
  {
   "cell_type": "code",
   "execution_count": null,
   "metadata": {},
   "outputs": [],
   "source": [
    "# MasVnrArea: Masonry veneer area in square feet\n",
    "# all_data['MasVnrArea'].hist()\n",
    "# Most values of this feature are 0\n",
    "# create a MasVnrArea band \n",
    "all_data['MasVnrArea_band'] = all_data['MasVnrArea'].map(lambda x: 0 if x==0.0 else\n",
    "                                             1 if x<400 else\n",
    "                                             2)\n",
    "# sns.catplot(x='MasVnrArea_band', y='SalePrice', kind='box', data=train)"
   ]
  },
  {
   "cell_type": "code",
   "execution_count": null,
   "metadata": {},
   "outputs": [],
   "source": [
    "# BsmtFinSF1, BsmtFinSF2, Type 1&2 finished square feet\n",
    "# BsmtUnfSF: Unfinished square feet of basement area\n",
    "# TotalBsmtSF: Total square feet of basement area\n",
    "\n",
    "# drop SF2, keep total FinSF"
   ]
  },
  {
   "cell_type": "code",
   "execution_count": null,
   "metadata": {},
   "outputs": [],
   "source": [
    "# 1stFlrSF & 2nd FlrSF. First&Second Floor square feet\n",
    "# create feature total_FlrSF\n",
    "all_data['total_FlrSF'] = all_data['1stFlrSF'] + all_data['2ndFlrSF']"
   ]
  },
  {
   "cell_type": "code",
   "execution_count": null,
   "metadata": {},
   "outputs": [],
   "source": [
    "# OpenPorchSF: Open porch area in square feet\n",
    "# EnclosedPorch: Enclosed Porch area in square feet\n",
    "# ScreenPorch,3SsnPorch\n",
    "# transform this feature to if we have porch\n",
    "all_data['total_porch'] = all_data['OpenPorchSF'] + all_data['EnclosedPorch'] + all_data['ScreenPorch'] + all_data['3SsnPorch']\n",
    "all_data['OpenPorchSF_have'] = all_data['OpenPorchSF'].apply(lambda x: 1 if x>0.0 else 0)\n",
    "all_data['have_porch'] = all_data['total_porch'].apply(lambda x: 1 if x>0.0 else 0)"
   ]
  },
  {
   "cell_type": "code",
   "execution_count": null,
   "metadata": {},
   "outputs": [],
   "source": [
    "# HalfBath, BsmtFullBath, FullBath, BsmtHalfBath\n",
    "# create feature total_bath\n",
    "all_data['total_bath'] = 0.5 * all_data['HalfBath'] + all_data['BsmtFullBath'] + 0.5 * all_data['BsmtHalfBath'] + all_data['FullBath']"
   ]
  },
  {
   "cell_type": "code",
   "execution_count": null,
   "metadata": {},
   "outputs": [],
   "source": [
    "sns.catplot(x='total_bath', y='SalePrice', kind='swarm', data=all_data.iloc[:1459, :].join(train['SalePrice']))"
   ]
  },
  {
   "cell_type": "code",
   "execution_count": null,
   "metadata": {},
   "outputs": [],
   "source": [
    "# GarageYrBlt, \n",
    "# train['GarageYrBlt'][train['GarageYrBlt'] > 0].hist()\n",
    "all_data['Garage_age'] = all_data['YrSold'] - all_data['GarageYrBlt']\n",
    "all_data['Garage_age'] = all_data['Garage_age'].apply(lambda x: 0 if x<0 else x)"
   ]
  },
  {
   "cell_type": "code",
   "execution_count": null,
   "metadata": {},
   "outputs": [],
   "source": [
    "# Bedroom, kitchen, total room abvgr\n",
    "# drop bedroom, kitchen"
   ]
  },
  {
   "cell_type": "code",
   "execution_count": null,
   "metadata": {},
   "outputs": [],
   "source": [
    "# Fireplaces\n",
    "all_data['Fireplaces_exist'] = all_data['Fireplaces'].apply(lambda x: 1 if x>0 else 0)"
   ]
  },
  {
   "cell_type": "code",
   "execution_count": null,
   "metadata": {},
   "outputs": [],
   "source": [
    "# LowQualFinSF\n",
    "all_data['LowQualFinSF'] = all_data['LowQualFinSF'].apply(lambda x: 1 if x>0.0 else 0)\n",
    "# sns.catplot(x='LowQualFinSF', y='SalePrice', data=train)\n",
    "# Drop this feature"
   ]
  },
  {
   "cell_type": "code",
   "execution_count": null,
   "metadata": {},
   "outputs": [],
   "source": [
    "# MiscVal: $Value of miscellaneous feature\n",
    "# Almost all values are 0. drop it\n",
    "all_data['MiscVal'].hist()"
   ]
  },
  {
   "cell_type": "code",
   "execution_count": null,
   "metadata": {},
   "outputs": [],
   "source": [
    "num_columns = all_data.select_dtypes(exclude='object').columns\n",
    "num_columns"
   ]
  },
  {
   "cell_type": "code",
   "execution_count": null,
   "metadata": {},
   "outputs": [],
   "source": [
    "from sklearn.ensemble import RandomForestRegressor\n",
    "from sklearn.preprocessing import MinMaxScaler\n",
    "X = all_data.loc[:1459, num_columns]\n",
    "y = train['SalePrice']\n",
    "\n",
    "scaler = MinMaxScaler()\n",
    "scaler.fit_transform(X)\n",
    "rf = RandomForestRegressor().fit(X, y)\n",
    "feature_importance = pd.Series(rf.feature_importances_, index=X.columns)\n",
    "feature_importance.sort_values().plot.bar()"
   ]
  },
  {
   "cell_type": "markdown",
   "metadata": {},
   "source": [
    "Drop `have_porch`, `OpenPorchSF_have`, `BsmtFullBath`, `HalfBath`, `Fireplaces_exist`, `ScreenPorch`, `YrSold`, `FirePlaces`, `BedroomAbvGr`"
   ]
  },
  {
   "cell_type": "markdown",
   "metadata": {},
   "source": [
    "### Skewness data transformation"
   ]
  },
  {
   "cell_type": "code",
   "execution_count": null,
   "metadata": {},
   "outputs": [],
   "source": [
    "from scipy.special import boxcox1p\n",
    "\n",
    "num_cols = all_data.select_dtypes(exclude='object').columns\n",
    "skewness = all_data[num_cols].skew().abs().sort_values(ascending=False)\n",
    "cols_to_transform = skewness[skewness > 0.75].index\n",
    "for c in cols_to_transform:\n",
    "    try:\n",
    "        all_data[c] = boxcox1p(all_data[c], 0.15)\n",
    "    except:\n",
    "        print('columns: ', c)"
   ]
  },
  {
   "cell_type": "code",
   "execution_count": null,
   "metadata": {},
   "outputs": [],
   "source": [
    "all_data[num_cols].skew().abs().sort_values(ascending=False).head(10)"
   ]
  },
  {
   "cell_type": "markdown",
   "metadata": {},
   "source": [
    "Drop `PoolArea`, `3SsnPorch`, `LowQualFinSF`, `MiscVal`"
   ]
  },
  {
   "cell_type": "markdown",
   "metadata": {},
   "source": [
    "### Categorical features"
   ]
  },
  {
   "cell_type": "code",
   "execution_count": null,
   "metadata": {},
   "outputs": [],
   "source": [
    "cat_columns"
   ]
  },
  {
   "cell_type": "markdown",
   "metadata": {},
   "source": [
    "#### Missing value"
   ]
  },
  {
   "cell_type": "code",
   "execution_count": null,
   "metadata": {},
   "outputs": [],
   "source": [
    "all_data[cat_columns].isna().sum()[all_data[cat_columns].isna().sum()>0]"
   ]
  },
  {
   "cell_type": "code",
   "execution_count": null,
   "metadata": {},
   "outputs": [],
   "source": [
    "# MSZoning\n",
    "# all_data['MSZoning'].hist()\n",
    "all_data['MSZoning'] = all_data.groupby(['MSSubClass']).MSZoning.apply(lambda x: x.fillna(x.mode()[0]))\n",
    "\n",
    "# Alley, PoolQC,Fence, MiscFeature\n",
    "for c in ['Alley', 'PoolQC', 'MiscFeature']:\n",
    "    all_data[c] = all_data[c].fillna('None')\n",
    "    \n",
    "# MasVnrType, Electrical, Utilities, \n",
    "all_data['MasVnrType'] = all_data['MasVnrType'].fillna('None')\n",
    "for c in ['Electrical', 'Utilities', 'Exterior1st', 'Exterior2nd', 'Functional', 'SaleType']:\n",
    "    all_data[c] = all_data[c].fillna(all_data[c].mode()[0])\n",
    "    \n",
    "# KitchenQual\n",
    "all_data['KitchenQual'] = all_data['KitchenQual'].fillna('TA')\n",
    "\n",
    "# Bsmt\n",
    "for c in ['BsmtQual', 'BsmtCond', 'BsmtExposure', 'BsmtFinType1', 'BsmtFinType2']:\n",
    "    all_data[c] = all_data[c].fillna('None')\n",
    "\n",
    "# Garage\n",
    "for c in ['GarageType', 'GarageFinish', 'GarageQual', 'GarageCond']:\n",
    "    all_data[c] = all_data[c].fillna('None')\n",
    "\n",
    "# FireplaceQu, Fence\n",
    "all_data['FireplaceQu'] = all_data['FireplaceQu'].fillna('None')\n",
    "all_data['Fence'] = all_data['Fence'].fillna('None')"
   ]
  },
  {
   "cell_type": "markdown",
   "metadata": {},
   "source": [
    "#### Individual feature"
   ]
  },
  {
   "cell_type": "code",
   "execution_count": null,
   "metadata": {},
   "outputs": [],
   "source": [
    "cat_columns"
   ]
  },
  {
   "cell_type": "code",
   "execution_count": null,
   "metadata": {},
   "outputs": [],
   "source": [
    "all_data['Street'] = all_data['Street'].map({'Pave':1, 'Grvl':0})\n",
    "all_data['Alley'] = all_data['Alley'].map({'Pave':1, 'Grvl':0, 'None':-1})\n",
    "all_data['LotShape'] = all_data['LotShape'].map({'IR3':0, 'IR2':1, 'IR1':2, 'Reg':3})\n",
    "all_data['LandSlope'] = all_data['LandSlope'].map({'Gtl':0, 'Mod':1, 'Sev':2})\n",
    "\n",
    "all_data['HouseStyle'] = all_data['HouseStyle'].map({'1Story':1,\n",
    "                                                     '1.5Unf':2,\n",
    "                                                    '1.5Fin':3,\n",
    "                                                    '2Story':4,\n",
    "                                                    '2.5Unf':5,\n",
    "                                                    '2,5Fin':6,\n",
    "                                                    'SFoyer':4,\n",
    "                                                    'SLvl':7})\n",
    "\n",
    "for c in ['ExterQual', 'ExterCond', 'BsmtQual', 'BsmtCond', 'HeatingQC', 'KitchenQual', 'FireplaceQu', 'GarageQual', 'GarageCond', 'PoolQC']:\n",
    "    all_data[c] = all_data[c].map({'Po':0,'Fa':1,'TA':2,'Gd':3,'Ex':4,'None':-1})\n",
    "\n",
    "all_data['BsmtExposure'] = all_data['BsmtExposure'].map({'None':-1,'No':0,'Mn':1,'Av':2,'Gd':3})\n",
    "for c in ['BsmtFinType1', 'BsmtFinType2']:\n",
    "    all_data[c] = all_data[c].map({'None':-1,\n",
    "                                  'Unf':0,\n",
    "                                  'LwQ':1,\n",
    "                                  'Rec':2,\n",
    "                                  'BLQ':3,'ALQ':4,'GLQ':5})\n",
    "\n",
    "all_data['CentralAir'] = all_data['CentralAir'].map({'N':0, 'Y':1})\n",
    "\n",
    "all_data['GarageType'] = all_data['GarageType'].apply(lambda x: 2 if x in ['Attchd', 'BuiltIn']\n",
    "                                                     else 0 if x=='None'\n",
    "                                                     else 1)\n",
    "all_data['GarageFinish'] = all_data['GarageFinish'].apply(lambda x: 2 if x in ['Fin', 'RFn']\n",
    "                                                     else 1 if x=='Unf'\n",
    "                                                     else 0)\n",
    "\n",
    "all_data['PavedDrive'] = all_data['PavedDrive'].map({'N':-1, 'P':0, 'Y':1})\n",
    "\n",
    "all_data['SaleType'] = all_data['SaleType'].apply(lambda x:1 if x in ['WD', 'NEW', 'CWD','Con']\n",
    "                                           else 0 if x=='Oth'\n",
    "                                           else 2)"
   ]
  },
  {
   "cell_type": "code",
   "execution_count": null,
   "metadata": {},
   "outputs": [],
   "source": [
    "# drop Utilities\n"
   ]
  },
  {
   "cell_type": "code",
   "execution_count": null,
   "metadata": {},
   "outputs": [],
   "source": []
  }
 ],
 "metadata": {
  "kernelspec": {
   "display_name": "Python 3",
   "language": "python",
   "name": "python3"
  },
  "language_info": {
   "codemirror_mode": {
    "name": "ipython",
    "version": 3
   },
   "file_extension": ".py",
   "mimetype": "text/x-python",
   "name": "python",
   "nbconvert_exporter": "python",
   "pygments_lexer": "ipython3",
   "version": "3.7.4"
  }
 },
 "nbformat": 4,
 "nbformat_minor": 4
}
